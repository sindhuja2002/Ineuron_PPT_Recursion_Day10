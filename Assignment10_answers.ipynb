{
  "nbformat": 4,
  "nbformat_minor": 0,
  "metadata": {
    "colab": {
      "provenance": []
    },
    "kernelspec": {
      "name": "python3",
      "display_name": "Python 3"
    },
    "language_info": {
      "name": "python"
    }
  },
  "cells": [
    {
      "cell_type": "code",
      "execution_count": 1,
      "metadata": {
        "colab": {
          "base_uri": "https://localhost:8080/"
        },
        "id": "-xTL6tzX0TUF",
        "outputId": "9004e7e1-f865-4bb8-c2ce-46efa5fed59b"
      },
      "outputs": [
        {
          "output_type": "stream",
          "name": "stdout",
          "text": [
            "True\n",
            "False\n",
            "False\n"
          ]
        }
      ],
      "source": [
        "#question1\n",
        "def isPowerOfThree(n):\n",
        "    if n <= 0:\n",
        "        return False\n",
        "    while n % 3 == 0:\n",
        "        n //= 3\n",
        "    return n == 1\n",
        "\n",
        "# Example 1\n",
        "n1 = 27\n",
        "print(isPowerOfThree(n1))  # Output: True\n",
        "\n",
        "# Example 2\n",
        "n2 = 0\n",
        "print(isPowerOfThree(n2))  # Output: False\n",
        "\n",
        "# Example 3\n",
        "n3 = -1\n",
        "print(isPowerOfThree(n3))  # Output: False\n",
        "\n",
        "#TC - O(log3n)----n%3\n",
        "#SC - O(1)"
      ]
    },
    {
      "cell_type": "code",
      "source": [
        "#question 2\n",
        "def lastRemaining(n):\n",
        "    def eliminate(arr, left_to_right):\n",
        "        if len(arr) == 1:\n",
        "            return arr[0]\n",
        "        if left_to_right:\n",
        "            return eliminate(arr[1::2], not left_to_right)\n",
        "        else:\n",
        "            return eliminate(arr[-2::-2][::-1], not left_to_right)\n",
        "\n",
        "    arr = list(range(1, n + 1))\n",
        "    return eliminate(arr, True)\n",
        "\n",
        "# Example 1\n",
        "n1 = 9\n",
        "print(lastRemaining(n1))  # Output: 6\n",
        "\n",
        "# Example 2\n",
        "n2 = 1\n",
        "print(lastRemaining(n2))  # Output: 1\n",
        "\n",
        "#TC - O(log2n)----size of list is halved\n",
        "#SC - O(log2n)----the space required for the stack for eliminate() and (arr) is halved"
      ],
      "metadata": {
        "colab": {
          "base_uri": "https://localhost:8080/"
        },
        "id": "gycjyNs70clt",
        "outputId": "558308b7-b0ff-4132-d874-515ecb45203f"
      },
      "execution_count": 2,
      "outputs": [
        {
          "output_type": "stream",
          "name": "stdout",
          "text": [
            "6\n",
            "1\n"
          ]
        }
      ]
    },
    {
      "cell_type": "code",
      "source": [
        "#question 3\n",
        "def printSubsets(s, current_subset=\"\"):\n",
        "    if len(s) == 0:\n",
        "        print(current_subset)\n",
        "        return\n",
        "\n",
        "    # Exclude the first character of the set and recursively generate subsets\n",
        "    printSubsets(s[1:], current_subset)\n",
        "\n",
        "    # Include the first character of the set and recursively generate subsets\n",
        "    printSubsets(s[1:], current_subset + s[0])\n",
        "\n",
        "\n",
        "# Example usage\n",
        "s = \"abc\"\n",
        "printSubsets(s)\n",
        "\n",
        "#example 2\n",
        "s = \"abcd\"\n",
        "printSubsets(s)\n",
        "\n",
        "#TC - O(2^N)----2 choices,include current subset or exclude\n",
        "#SC - O(N)---N - depth of recursion where ,at given pt maximum depth of the recursion = length of the input string s"
      ],
      "metadata": {
        "colab": {
          "base_uri": "https://localhost:8080/"
        },
        "id": "1hA1dYSD1Ipm",
        "outputId": "308f2178-a966-4f39-e939-a4e7fc0cfae8"
      },
      "execution_count": 5,
      "outputs": [
        {
          "output_type": "stream",
          "name": "stdout",
          "text": [
            "\n",
            "c\n",
            "b\n",
            "bc\n",
            "a\n",
            "ac\n",
            "ab\n",
            "abc\n",
            "\n",
            "d\n",
            "c\n",
            "cd\n",
            "b\n",
            "bd\n",
            "bc\n",
            "bcd\n",
            "a\n",
            "ad\n",
            "ac\n",
            "acd\n",
            "ab\n",
            "abd\n",
            "abc\n",
            "abcd\n"
          ]
        }
      ]
    },
    {
      "cell_type": "code",
      "source": [
        "#question 4\n",
        "def calculateStringLength(string):\n",
        "    if string == \"\":\n",
        "        return 0\n",
        "    else:\n",
        "        return 1 + calculateStringLength(string[1:])\n",
        "\n",
        "\n",
        "# Example usage\n",
        "str1 = \"abcd\"\n",
        "print(calculateStringLength(str1))  # Output: 4\n",
        "\n",
        "str2 = \"GEEKSFORGEEKS\"\n",
        "print(calculateStringLength(str2))  # Output: 13\n",
        "\n",
        "#TC - O(n)\n",
        "#SC - O(n)"
      ],
      "metadata": {
        "colab": {
          "base_uri": "https://localhost:8080/"
        },
        "id": "u1tURsAj1ju7",
        "outputId": "69c3cc78-00ae-43e4-b910-a9c6c4ad92e6"
      },
      "execution_count": 6,
      "outputs": [
        {
          "output_type": "stream",
          "name": "stdout",
          "text": [
            "4\n",
            "13\n"
          ]
        }
      ]
    },
    {
      "cell_type": "code",
      "source": [
        "#question 5\n",
        "def countSubstrings(s):\n",
        "    count = 0\n",
        "    for i in range(len(s)):\n",
        "        for j in range(i, len(s)):\n",
        "            if s[i] == s[j]:\n",
        "                count += 1\n",
        "    return count\n",
        "\n",
        "# Example usage\n",
        "S1 = \"abcab\"\n",
        "print(countSubstrings(S1))  # Output: 7\n",
        "\n",
        "S2 = \"aba\"\n",
        "print(countSubstrings(S2))  # Output: 4\n",
        "\n",
        "#TC - O(n^2)--nested for loops\n",
        "#SC - O(1)"
      ],
      "metadata": {
        "colab": {
          "base_uri": "https://localhost:8080/"
        },
        "id": "m686ESQ76AVF",
        "outputId": "8b512405-048d-4757-a64c-1aa8b4b76dcc"
      },
      "execution_count": 8,
      "outputs": [
        {
          "output_type": "stream",
          "name": "stdout",
          "text": [
            "7\n",
            "4\n"
          ]
        }
      ]
    },
    {
      "cell_type": "code",
      "source": [
        "#question 6\n",
        "def towerOfHanoi(n, source, destination, auxiliary):\n",
        "    if n == 1:\n",
        "        print(\"move disk 1 from rod\", source, \"to rod\", destination)\n",
        "        return 1\n",
        "\n",
        "    moves = (\n",
        "        towerOfHanoi(n - 1, source, auxiliary, destination)\n",
        "        + 1\n",
        "        + towerOfHanoi(n - 1, auxiliary, destination, source)\n",
        "    )\n",
        "    print(\"move disk\", n, \"from rod\", source, \"to rod\", destination)\n",
        "    return moves\n",
        "\n",
        "\n",
        "# Example usage\n",
        "N1 = 2\n",
        "print(\"Total moves:\", towerOfHanoi(N1, 1, 3, 2))\n",
        "print()\n",
        "\n",
        "N2 = 3\n",
        "print(\"Total moves:\", towerOfHanoi(N2, 1, 3, 2))\n",
        "\n",
        "#TC - O(2^N)----N is no. of disks,prbl is div into 2 subprblms with N-1 disks\n",
        "#SC - O(N)---N ---max depth of recursion = no. of disks"
      ],
      "metadata": {
        "colab": {
          "base_uri": "https://localhost:8080/"
        },
        "id": "Xi5TfDLD6Qip",
        "outputId": "d83b739f-85f4-487b-baa1-3c2aa550b0a4"
      },
      "execution_count": 10,
      "outputs": [
        {
          "output_type": "stream",
          "name": "stdout",
          "text": [
            "move disk 1 from rod 1 to rod 2\n",
            "move disk 1 from rod 2 to rod 3\n",
            "move disk 2 from rod 1 to rod 3\n",
            "Total moves: 3\n",
            "\n",
            "move disk 1 from rod 1 to rod 3\n",
            "move disk 1 from rod 3 to rod 2\n",
            "move disk 2 from rod 1 to rod 2\n",
            "move disk 1 from rod 2 to rod 1\n",
            "move disk 1 from rod 1 to rod 3\n",
            "move disk 2 from rod 2 to rod 3\n",
            "move disk 3 from rod 1 to rod 3\n",
            "Total moves: 7\n"
          ]
        }
      ]
    },
    {
      "cell_type": "code",
      "source": [
        "#question 7\n",
        "def permutations(string, current_permutation=\"\"):\n",
        "    if len(string) == 0:\n",
        "        print(current_permutation)\n",
        "        return\n",
        "\n",
        "    for i in range(len(string)):\n",
        "        permutations(\n",
        "            string[:i] + string[i + 1 :],\n",
        "            current_permutation + string[i]\n",
        "        )\n",
        "\n",
        "\n",
        "# Example usage\n",
        "str1 = \"cd\"\n",
        "permutations(str1)  # Output: cd dc\n",
        "print()\n",
        "\n",
        "str2 = \"abb\"\n",
        "permutations(str2)  # Output: abb abb bab bba bab bba\n",
        "\n",
        "#TC - O(N!)---N -length of input string\n",
        "#SC - O(N)"
      ],
      "metadata": {
        "colab": {
          "base_uri": "https://localhost:8080/"
        },
        "id": "AJCdQ41k69wK",
        "outputId": "cd2848e1-647e-4560-b097-255c35eb0c5c"
      },
      "execution_count": 12,
      "outputs": [
        {
          "output_type": "stream",
          "name": "stdout",
          "text": [
            "cd\n",
            "dc\n",
            "\n",
            "abb\n",
            "abb\n",
            "bab\n",
            "bba\n",
            "bab\n",
            "bba\n"
          ]
        }
      ]
    },
    {
      "cell_type": "code",
      "source": [
        "#question 8\n",
        "def countConsonants(string):\n",
        "    consonants = \"bcdfghjklmnpqrstvwxyzBCDFGHJKLMNPQRSTVWXYZ\"\n",
        "    count = 0\n",
        "    for char in string:\n",
        "        if char in consonants:\n",
        "            count += 1\n",
        "    return count\n",
        "\n",
        "# Example usage\n",
        "str1 = \"abc de\"\n",
        "print(countConsonants(str1))  # Output: 3\n",
        "\n",
        "str2 = \"geeksforgeeks portal\"\n",
        "print(countConsonants(str2))  # Output: 12\n",
        "\n",
        "#TC - O(n)\n",
        "#SC - O(1)"
      ],
      "metadata": {
        "colab": {
          "base_uri": "https://localhost:8080/"
        },
        "id": "pvhrvl7Z9E3U",
        "outputId": "f520bd2c-1136-4686-b07b-76ddee07559d"
      },
      "execution_count": 13,
      "outputs": [
        {
          "output_type": "stream",
          "name": "stdout",
          "text": [
            "3\n",
            "12\n"
          ]
        }
      ]
    }
  ]
}